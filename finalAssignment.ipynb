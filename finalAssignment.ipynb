{
 "cells": [
  {
   "cell_type": "code",
   "execution_count": 1,
   "outputs": [],
   "source": [
    "import pandas as pd"
   ],
   "metadata": {
    "collapsed": false,
    "pycharm": {
     "name": "#%%\n"
    }
   }
  },
  {
   "cell_type": "markdown",
   "source": [
    "## All data"
   ],
   "metadata": {
    "collapsed": false,
    "pycharm": {
     "name": "#%% md\n"
    }
   }
  },
  {
   "cell_type": "code",
   "execution_count": 24,
   "outputs": [
    {
     "data": {
      "text/plain": "   invoice_and_item_number                 date  store_number  \\\n0             S30192200003  2016-01-13 00:00:00          3772   \n1             S30234800064  2016-01-15 00:00:00          4829   \n2             S30348700047  2016-01-25 00:00:00          3162   \n3             S30390600011  2016-01-26 00:00:00          2641   \n4             S30466200002  2016-02-01 00:00:00          2633   \n..                     ...                  ...           ...   \n69         INV-23938500001  2019-12-16 00:00:00          4136   \n70         INV-24014800058  2019-12-18 00:00:00          4312   \n71         INV-24096400014  2019-12-23 00:00:00          2593   \n72         INV-24116900112  2019-12-23 00:00:00          2670   \n73         INV-24268000020  2019-12-31 00:00:00          3993   \n\n                              store_name                 address  \\\n0              Shop N Save #1 / Mlk Pkwy   2127 M L KING JR PKWY   \n1                         Central City 2       1501 MICHIGAN AVE   \n2            Nash Finch / Wholesale Food           807 GRANDVIEW   \n3      Hy-Vee Drugstore / Council Bluffs          757 W BROADWAY   \n4           Hy-Vee #3 / BDI / Des Moines         3221 SE 14TH ST   \n..                                   ...                     ...   \n69          Fareway Stores #983 / Grimes          351 Gateway Dr   \n70          I-80 Liquor / Council Bluffs       2411 S 24TH ST #1   \n71           Hy-Vee Food Store / Carroll  905 US Highway 30 West   \n72        Hy-Vee Food Store / Coralville            2004 8th  St   \n73  New Star Liquor / W 4th S / Waterloo        1625 West 4th St   \n\n              city  zip_code                         store_location  \\\n0       DES MOINES   50314.0                                    NaN   \n1       DES MOINES   50314.0            POINT (-93.613739 41.60572)   \n2        MUSCATINE   52761.0   POINT (-91.06411300000002 41.408437)   \n3   COUNCIL BLUFFS   51501.0           POINT (-95.855054 41.261673)   \n4       DES MOINES   50320.0           POINT (-93.596754 41.554101)   \n..             ...       ...                                    ...   \n69          Grimes   50111.0                                    NaN   \n70  Council Bluffs   51501.0             POINT (-95.8792 41.238092)   \n71         Carroll   51401.0           POINT (-94.853591 42.064155)   \n72      Coralville   52241.0  POINT (-91.591868 41.682337000000004)   \n73        Waterloo   50701.0                                    NaN   \n\n    county_number         county  ...  item_number  \\\n0              77           Polk  ...        56193   \n1              77           Polk  ...        86251   \n2              70      Muscatine  ...        82847   \n3              78  Pottawattamie  ...        81124   \n4              77           Polk  ...       973627   \n..            ...            ...  ...          ...   \n69             77           POLK  ...        77805   \n70             78     POTTAWATTA  ...        86251   \n71             14        CARROLL  ...        27189   \n72             52        JOHNSON  ...        65750   \n73              7     BLACK HAWK  ...        43031   \n\n                         item_description  pack bottle_volume_ml  \\\n0   Paul Masson Peach Grande Amber Brandy    24              200   \n1                       Juarez Triple Sec    12             1000   \n2                      Dekuyper Peachtree    12             1000   \n3                      99 Peppermint Mini    10              600   \n4                 Di Amore Quattro Orange    12             1000   \n..                                    ...   ...              ...   \n69             Saints N Sinners Apple Pie    12              750   \n70                      Juarez Triple Sec    12             1000   \n71                  Basil Hayden Dark Rye     6              750   \n72                   Maestro Agavero Gold    12             1000   \n73                      Bacardi Gold Mini    12               50   \n\n    state_bottle_cost state_bottle_retail  bottles_sold  sale_dollars  \\\n0                1.96                2.94            24         70.56   \n1                2.42                3.63            60        217.80   \n2                7.62               11.43             4         45.72   \n3                5.94                8.91             2         17.82   \n4                9.75               14.63           120       1755.60   \n..                ...                 ...           ...           ...   \n69               8.00               12.00           108       1296.00   \n70               2.42                3.63            48        174.24   \n71              23.62               35.43            18        637.74   \n72               7.00               10.50            48        504.00   \n73               5.54                8.31             4         33.24   \n\n    volume_sold_liters  volume_sold_gallons  \n0                  4.8                 1.27  \n1                 60.0                15.85  \n2                  4.0                 1.06  \n3                  1.2                 0.32  \n4                120.0                31.70  \n..                 ...                  ...  \n69                81.0                21.39  \n70                48.0                12.68  \n71                13.5                 3.56  \n72                48.0                12.68  \n73                 0.2                 0.05  \n\n[74 rows x 24 columns]",
      "text/html": "<div>\n<style scoped>\n    .dataframe tbody tr th:only-of-type {\n        vertical-align: middle;\n    }\n\n    .dataframe tbody tr th {\n        vertical-align: top;\n    }\n\n    .dataframe thead th {\n        text-align: right;\n    }\n</style>\n<table border=\"1\" class=\"dataframe\">\n  <thead>\n    <tr style=\"text-align: right;\">\n      <th></th>\n      <th>invoice_and_item_number</th>\n      <th>date</th>\n      <th>store_number</th>\n      <th>store_name</th>\n      <th>address</th>\n      <th>city</th>\n      <th>zip_code</th>\n      <th>store_location</th>\n      <th>county_number</th>\n      <th>county</th>\n      <th>...</th>\n      <th>item_number</th>\n      <th>item_description</th>\n      <th>pack</th>\n      <th>bottle_volume_ml</th>\n      <th>state_bottle_cost</th>\n      <th>state_bottle_retail</th>\n      <th>bottles_sold</th>\n      <th>sale_dollars</th>\n      <th>volume_sold_liters</th>\n      <th>volume_sold_gallons</th>\n    </tr>\n  </thead>\n  <tbody>\n    <tr>\n      <th>0</th>\n      <td>S30192200003</td>\n      <td>2016-01-13 00:00:00</td>\n      <td>3772</td>\n      <td>Shop N Save #1 / Mlk Pkwy</td>\n      <td>2127 M L KING JR PKWY</td>\n      <td>DES MOINES</td>\n      <td>50314.0</td>\n      <td>NaN</td>\n      <td>77</td>\n      <td>Polk</td>\n      <td>...</td>\n      <td>56193</td>\n      <td>Paul Masson Peach Grande Amber Brandy</td>\n      <td>24</td>\n      <td>200</td>\n      <td>1.96</td>\n      <td>2.94</td>\n      <td>24</td>\n      <td>70.56</td>\n      <td>4.8</td>\n      <td>1.27</td>\n    </tr>\n    <tr>\n      <th>1</th>\n      <td>S30234800064</td>\n      <td>2016-01-15 00:00:00</td>\n      <td>4829</td>\n      <td>Central City 2</td>\n      <td>1501 MICHIGAN AVE</td>\n      <td>DES MOINES</td>\n      <td>50314.0</td>\n      <td>POINT (-93.613739 41.60572)</td>\n      <td>77</td>\n      <td>Polk</td>\n      <td>...</td>\n      <td>86251</td>\n      <td>Juarez Triple Sec</td>\n      <td>12</td>\n      <td>1000</td>\n      <td>2.42</td>\n      <td>3.63</td>\n      <td>60</td>\n      <td>217.80</td>\n      <td>60.0</td>\n      <td>15.85</td>\n    </tr>\n    <tr>\n      <th>2</th>\n      <td>S30348700047</td>\n      <td>2016-01-25 00:00:00</td>\n      <td>3162</td>\n      <td>Nash Finch / Wholesale Food</td>\n      <td>807 GRANDVIEW</td>\n      <td>MUSCATINE</td>\n      <td>52761.0</td>\n      <td>POINT (-91.06411300000002 41.408437)</td>\n      <td>70</td>\n      <td>Muscatine</td>\n      <td>...</td>\n      <td>82847</td>\n      <td>Dekuyper Peachtree</td>\n      <td>12</td>\n      <td>1000</td>\n      <td>7.62</td>\n      <td>11.43</td>\n      <td>4</td>\n      <td>45.72</td>\n      <td>4.0</td>\n      <td>1.06</td>\n    </tr>\n    <tr>\n      <th>3</th>\n      <td>S30390600011</td>\n      <td>2016-01-26 00:00:00</td>\n      <td>2641</td>\n      <td>Hy-Vee Drugstore / Council Bluffs</td>\n      <td>757 W BROADWAY</td>\n      <td>COUNCIL BLUFFS</td>\n      <td>51501.0</td>\n      <td>POINT (-95.855054 41.261673)</td>\n      <td>78</td>\n      <td>Pottawattamie</td>\n      <td>...</td>\n      <td>81124</td>\n      <td>99 Peppermint Mini</td>\n      <td>10</td>\n      <td>600</td>\n      <td>5.94</td>\n      <td>8.91</td>\n      <td>2</td>\n      <td>17.82</td>\n      <td>1.2</td>\n      <td>0.32</td>\n    </tr>\n    <tr>\n      <th>4</th>\n      <td>S30466200002</td>\n      <td>2016-02-01 00:00:00</td>\n      <td>2633</td>\n      <td>Hy-Vee #3 / BDI / Des Moines</td>\n      <td>3221 SE 14TH ST</td>\n      <td>DES MOINES</td>\n      <td>50320.0</td>\n      <td>POINT (-93.596754 41.554101)</td>\n      <td>77</td>\n      <td>Polk</td>\n      <td>...</td>\n      <td>973627</td>\n      <td>Di Amore Quattro Orange</td>\n      <td>12</td>\n      <td>1000</td>\n      <td>9.75</td>\n      <td>14.63</td>\n      <td>120</td>\n      <td>1755.60</td>\n      <td>120.0</td>\n      <td>31.70</td>\n    </tr>\n    <tr>\n      <th>...</th>\n      <td>...</td>\n      <td>...</td>\n      <td>...</td>\n      <td>...</td>\n      <td>...</td>\n      <td>...</td>\n      <td>...</td>\n      <td>...</td>\n      <td>...</td>\n      <td>...</td>\n      <td>...</td>\n      <td>...</td>\n      <td>...</td>\n      <td>...</td>\n      <td>...</td>\n      <td>...</td>\n      <td>...</td>\n      <td>...</td>\n      <td>...</td>\n      <td>...</td>\n      <td>...</td>\n    </tr>\n    <tr>\n      <th>69</th>\n      <td>INV-23938500001</td>\n      <td>2019-12-16 00:00:00</td>\n      <td>4136</td>\n      <td>Fareway Stores #983 / Grimes</td>\n      <td>351 Gateway Dr</td>\n      <td>Grimes</td>\n      <td>50111.0</td>\n      <td>NaN</td>\n      <td>77</td>\n      <td>POLK</td>\n      <td>...</td>\n      <td>77805</td>\n      <td>Saints N Sinners Apple Pie</td>\n      <td>12</td>\n      <td>750</td>\n      <td>8.00</td>\n      <td>12.00</td>\n      <td>108</td>\n      <td>1296.00</td>\n      <td>81.0</td>\n      <td>21.39</td>\n    </tr>\n    <tr>\n      <th>70</th>\n      <td>INV-24014800058</td>\n      <td>2019-12-18 00:00:00</td>\n      <td>4312</td>\n      <td>I-80 Liquor / Council Bluffs</td>\n      <td>2411 S 24TH ST #1</td>\n      <td>Council Bluffs</td>\n      <td>51501.0</td>\n      <td>POINT (-95.8792 41.238092)</td>\n      <td>78</td>\n      <td>POTTAWATTA</td>\n      <td>...</td>\n      <td>86251</td>\n      <td>Juarez Triple Sec</td>\n      <td>12</td>\n      <td>1000</td>\n      <td>2.42</td>\n      <td>3.63</td>\n      <td>48</td>\n      <td>174.24</td>\n      <td>48.0</td>\n      <td>12.68</td>\n    </tr>\n    <tr>\n      <th>71</th>\n      <td>INV-24096400014</td>\n      <td>2019-12-23 00:00:00</td>\n      <td>2593</td>\n      <td>Hy-Vee Food Store / Carroll</td>\n      <td>905 US Highway 30 West</td>\n      <td>Carroll</td>\n      <td>51401.0</td>\n      <td>POINT (-94.853591 42.064155)</td>\n      <td>14</td>\n      <td>CARROLL</td>\n      <td>...</td>\n      <td>27189</td>\n      <td>Basil Hayden Dark Rye</td>\n      <td>6</td>\n      <td>750</td>\n      <td>23.62</td>\n      <td>35.43</td>\n      <td>18</td>\n      <td>637.74</td>\n      <td>13.5</td>\n      <td>3.56</td>\n    </tr>\n    <tr>\n      <th>72</th>\n      <td>INV-24116900112</td>\n      <td>2019-12-23 00:00:00</td>\n      <td>2670</td>\n      <td>Hy-Vee Food Store / Coralville</td>\n      <td>2004 8th  St</td>\n      <td>Coralville</td>\n      <td>52241.0</td>\n      <td>POINT (-91.591868 41.682337000000004)</td>\n      <td>52</td>\n      <td>JOHNSON</td>\n      <td>...</td>\n      <td>65750</td>\n      <td>Maestro Agavero Gold</td>\n      <td>12</td>\n      <td>1000</td>\n      <td>7.00</td>\n      <td>10.50</td>\n      <td>48</td>\n      <td>504.00</td>\n      <td>48.0</td>\n      <td>12.68</td>\n    </tr>\n    <tr>\n      <th>73</th>\n      <td>INV-24268000020</td>\n      <td>2019-12-31 00:00:00</td>\n      <td>3993</td>\n      <td>New Star Liquor / W 4th S / Waterloo</td>\n      <td>1625 West 4th St</td>\n      <td>Waterloo</td>\n      <td>50701.0</td>\n      <td>NaN</td>\n      <td>7</td>\n      <td>BLACK HAWK</td>\n      <td>...</td>\n      <td>43031</td>\n      <td>Bacardi Gold Mini</td>\n      <td>12</td>\n      <td>50</td>\n      <td>5.54</td>\n      <td>8.31</td>\n      <td>4</td>\n      <td>33.24</td>\n      <td>0.2</td>\n      <td>0.05</td>\n    </tr>\n  </tbody>\n</table>\n<p>74 rows × 24 columns</p>\n</div>"
     },
     "execution_count": 24,
     "metadata": {},
     "output_type": "execute_result"
    }
   ],
   "source": [
    "df = pd.read_csv('liquor_sales.csv')\n",
    "df"
   ],
   "metadata": {
    "collapsed": false,
    "pycharm": {
     "name": "#%%\n"
    }
   }
  },
  {
   "cell_type": "markdown",
   "source": [
    "### Sum bottle sales per zip code and item"
   ],
   "metadata": {
    "collapsed": false,
    "pycharm": {
     "name": "#%% md\n"
    }
   }
  },
  {
   "cell_type": "code",
   "execution_count": 51,
   "outputs": [
    {
     "data": {
      "text/plain": "                      bottles_sold\nzip_code item_number              \n50010.0  946574                288\n50022.0  86507                   4\n50111.0  77805                 108\n50131.0  38089                  48\n50158.0  48099                  24\n...                            ...\n52627.0  67586                  36\n52732.0  45248                  24\n52761.0  82847                   4\n52803.0  41844                   3\n52804.0  48690                   2\n\n[72 rows x 1 columns]",
      "text/html": "<div>\n<style scoped>\n    .dataframe tbody tr th:only-of-type {\n        vertical-align: middle;\n    }\n\n    .dataframe tbody tr th {\n        vertical-align: top;\n    }\n\n    .dataframe thead th {\n        text-align: right;\n    }\n</style>\n<table border=\"1\" class=\"dataframe\">\n  <thead>\n    <tr style=\"text-align: right;\">\n      <th></th>\n      <th></th>\n      <th>bottles_sold</th>\n    </tr>\n    <tr>\n      <th>zip_code</th>\n      <th>item_number</th>\n      <th></th>\n    </tr>\n  </thead>\n  <tbody>\n    <tr>\n      <th>50010.0</th>\n      <th>946574</th>\n      <td>288</td>\n    </tr>\n    <tr>\n      <th>50022.0</th>\n      <th>86507</th>\n      <td>4</td>\n    </tr>\n    <tr>\n      <th>50111.0</th>\n      <th>77805</th>\n      <td>108</td>\n    </tr>\n    <tr>\n      <th>50131.0</th>\n      <th>38089</th>\n      <td>48</td>\n    </tr>\n    <tr>\n      <th>50158.0</th>\n      <th>48099</th>\n      <td>24</td>\n    </tr>\n    <tr>\n      <th>...</th>\n      <th>...</th>\n      <td>...</td>\n    </tr>\n    <tr>\n      <th>52627.0</th>\n      <th>67586</th>\n      <td>36</td>\n    </tr>\n    <tr>\n      <th>52732.0</th>\n      <th>45248</th>\n      <td>24</td>\n    </tr>\n    <tr>\n      <th>52761.0</th>\n      <th>82847</th>\n      <td>4</td>\n    </tr>\n    <tr>\n      <th>52803.0</th>\n      <th>41844</th>\n      <td>3</td>\n    </tr>\n    <tr>\n      <th>52804.0</th>\n      <th>48690</th>\n      <td>2</td>\n    </tr>\n  </tbody>\n</table>\n<p>72 rows × 1 columns</p>\n</div>"
     },
     "execution_count": 51,
     "metadata": {},
     "output_type": "execute_result"
    }
   ],
   "source": [
    "df_zip = df.groupby(['zip_code', 'item_number'])['bottles_sold'].sum().to_frame()\n",
    "df_zip"
   ],
   "metadata": {
    "collapsed": false,
    "pycharm": {
     "name": "#%%\n"
    }
   }
  },
  {
   "cell_type": "markdown",
   "source": [
    "### Most popular item: 1st item for each distinct zip code"
   ],
   "metadata": {
    "collapsed": false,
    "pycharm": {
     "name": "#%% md\n"
    }
   }
  },
  {
   "cell_type": "code",
   "execution_count": 52,
   "outputs": [
    {
     "data": {
      "text/plain": "                      bottles_sold\nzip_code item_number              \n52804.0  48690                   2\n52803.0  41844                   3\n52761.0  82847                   4\n52732.0  45248                  24\n52627.0  67586                  36\n...                            ...\n50158.0  67528                   3\n50131.0  38089                  48\n50111.0  77805                 108\n50022.0  86507                   4\n50010.0  946574                288\n\n[72 rows x 1 columns]",
      "text/html": "<div>\n<style scoped>\n    .dataframe tbody tr th:only-of-type {\n        vertical-align: middle;\n    }\n\n    .dataframe tbody tr th {\n        vertical-align: top;\n    }\n\n    .dataframe thead th {\n        text-align: right;\n    }\n</style>\n<table border=\"1\" class=\"dataframe\">\n  <thead>\n    <tr style=\"text-align: right;\">\n      <th></th>\n      <th></th>\n      <th>bottles_sold</th>\n    </tr>\n    <tr>\n      <th>zip_code</th>\n      <th>item_number</th>\n      <th></th>\n    </tr>\n  </thead>\n  <tbody>\n    <tr>\n      <th>52804.0</th>\n      <th>48690</th>\n      <td>2</td>\n    </tr>\n    <tr>\n      <th>52803.0</th>\n      <th>41844</th>\n      <td>3</td>\n    </tr>\n    <tr>\n      <th>52761.0</th>\n      <th>82847</th>\n      <td>4</td>\n    </tr>\n    <tr>\n      <th>52732.0</th>\n      <th>45248</th>\n      <td>24</td>\n    </tr>\n    <tr>\n      <th>52627.0</th>\n      <th>67586</th>\n      <td>36</td>\n    </tr>\n    <tr>\n      <th>...</th>\n      <th>...</th>\n      <td>...</td>\n    </tr>\n    <tr>\n      <th>50158.0</th>\n      <th>67528</th>\n      <td>3</td>\n    </tr>\n    <tr>\n      <th>50131.0</th>\n      <th>38089</th>\n      <td>48</td>\n    </tr>\n    <tr>\n      <th>50111.0</th>\n      <th>77805</th>\n      <td>108</td>\n    </tr>\n    <tr>\n      <th>50022.0</th>\n      <th>86507</th>\n      <td>4</td>\n    </tr>\n    <tr>\n      <th>50010.0</th>\n      <th>946574</th>\n      <td>288</td>\n    </tr>\n  </tbody>\n</table>\n<p>72 rows × 1 columns</p>\n</div>"
     },
     "execution_count": 52,
     "metadata": {},
     "output_type": "execute_result"
    }
   ],
   "source": [
    "df_max = df_zip.sort_values(by=['zip_code', 'bottles_sold'], ascending=False)\n",
    "df_max"
   ],
   "metadata": {
    "collapsed": false,
    "pycharm": {
     "name": "#%%\n"
    }
   }
  },
  {
   "cell_type": "markdown",
   "source": [
    "### Calculate overall sales"
   ],
   "metadata": {
    "collapsed": false,
    "pycharm": {
     "name": "#%% md\n"
    }
   }
  },
  {
   "cell_type": "code",
   "execution_count": 55,
   "outputs": [
    {
     "name": "stdout",
     "output_type": "stream",
     "text": [
      "All sales: 61266.17999999999\n"
     ]
    }
   ],
   "source": [
    "sales_sum = sum(df['sale_dollars'])\n",
    "print('All sales:', sales_sum)"
   ],
   "metadata": {
    "collapsed": false,
    "pycharm": {
     "name": "#%%\n"
    }
   }
  },
  {
   "cell_type": "markdown",
   "source": [
    "### Sum sales per store"
   ],
   "metadata": {
    "collapsed": false,
    "pycharm": {
     "name": "#%% md\n"
    }
   }
  },
  {
   "cell_type": "code",
   "execution_count": 57,
   "outputs": [
    {
     "data": {
      "text/plain": "                                   sale_dollars\nstore_name                                     \nBootleggin' Barzini's Fin                  6.75\nBurlington Shell                         206.64\nCVS Pharmacy #8526 / Cedar Rapids         42.00\nCedar Ridge Vineyards                   3712.50\nCentral City 2                          2580.60\n...                                         ...\nSpeedy Gas N Shop                         68.18\nTequila's Liquor Store                   413.28\nThe Ox & Wren Spirits and Gifts           75.12\nTobacco Hut #14 / Council Bluffs          33.24\nWilkie Liquors                         11620.80\n\n[61 rows x 1 columns]",
      "text/html": "<div>\n<style scoped>\n    .dataframe tbody tr th:only-of-type {\n        vertical-align: middle;\n    }\n\n    .dataframe tbody tr th {\n        vertical-align: top;\n    }\n\n    .dataframe thead th {\n        text-align: right;\n    }\n</style>\n<table border=\"1\" class=\"dataframe\">\n  <thead>\n    <tr style=\"text-align: right;\">\n      <th></th>\n      <th>sale_dollars</th>\n    </tr>\n    <tr>\n      <th>store_name</th>\n      <th></th>\n    </tr>\n  </thead>\n  <tbody>\n    <tr>\n      <th>Bootleggin' Barzini's Fin</th>\n      <td>6.75</td>\n    </tr>\n    <tr>\n      <th>Burlington Shell</th>\n      <td>206.64</td>\n    </tr>\n    <tr>\n      <th>CVS Pharmacy #8526 / Cedar Rapids</th>\n      <td>42.00</td>\n    </tr>\n    <tr>\n      <th>Cedar Ridge Vineyards</th>\n      <td>3712.50</td>\n    </tr>\n    <tr>\n      <th>Central City 2</th>\n      <td>2580.60</td>\n    </tr>\n    <tr>\n      <th>...</th>\n      <td>...</td>\n    </tr>\n    <tr>\n      <th>Speedy Gas N Shop</th>\n      <td>68.18</td>\n    </tr>\n    <tr>\n      <th>Tequila's Liquor Store</th>\n      <td>413.28</td>\n    </tr>\n    <tr>\n      <th>The Ox &amp; Wren Spirits and Gifts</th>\n      <td>75.12</td>\n    </tr>\n    <tr>\n      <th>Tobacco Hut #14 / Council Bluffs</th>\n      <td>33.24</td>\n    </tr>\n    <tr>\n      <th>Wilkie Liquors</th>\n      <td>11620.80</td>\n    </tr>\n  </tbody>\n</table>\n<p>61 rows × 1 columns</p>\n</div>"
     },
     "execution_count": 57,
     "metadata": {},
     "output_type": "execute_result"
    }
   ],
   "source": [
    "df_sales = df.groupby('store_name')['sale_dollars'].sum().to_frame()\n",
    "df_sales"
   ],
   "metadata": {
    "collapsed": false,
    "pycharm": {
     "name": "#%%\n"
    }
   }
  },
  {
   "cell_type": "markdown",
   "source": [
    "### Calculate the percentages"
   ],
   "metadata": {
    "collapsed": false,
    "pycharm": {
     "name": "#%% md\n"
    }
   }
  },
  {
   "cell_type": "code",
   "execution_count": 65,
   "outputs": [
    {
     "data": {
      "text/plain": "                                   sale_dollars        sales_percentage\nstore_name                                                             \nBootleggin' Barzini's Fin                  6.75  0.011017497745085463 %\nBurlington Shell                         206.64    0.3372823309695496 %\nCVS Pharmacy #8526 / Cedar Rapids         42.00   0.06855331930275399 %\nCedar Ridge Vineyards                   3712.50     6.059623759797004 %\nCentral City 2                          2580.60     4.212111804587784 %\n...                                         ...                     ...\nSpeedy Gas N Shop                         68.18   0.11128488833480399 %\nTequila's Liquor Store                   413.28    0.6745646619390993 %\nThe Ox & Wren Spirits and Gifts           75.12      0.12261250823864 %\nTobacco Hut #14 / Council Bluffs          33.24    0.0542550555624653 %\nWilkie Liquors                         11620.80     18.96772411793913 %\n\n[61 rows x 2 columns]",
      "text/html": "<div>\n<style scoped>\n    .dataframe tbody tr th:only-of-type {\n        vertical-align: middle;\n    }\n\n    .dataframe tbody tr th {\n        vertical-align: top;\n    }\n\n    .dataframe thead th {\n        text-align: right;\n    }\n</style>\n<table border=\"1\" class=\"dataframe\">\n  <thead>\n    <tr style=\"text-align: right;\">\n      <th></th>\n      <th>sale_dollars</th>\n      <th>sales_percentage</th>\n    </tr>\n    <tr>\n      <th>store_name</th>\n      <th></th>\n      <th></th>\n    </tr>\n  </thead>\n  <tbody>\n    <tr>\n      <th>Bootleggin' Barzini's Fin</th>\n      <td>6.75</td>\n      <td>0.011017497745085463 %</td>\n    </tr>\n    <tr>\n      <th>Burlington Shell</th>\n      <td>206.64</td>\n      <td>0.3372823309695496 %</td>\n    </tr>\n    <tr>\n      <th>CVS Pharmacy #8526 / Cedar Rapids</th>\n      <td>42.00</td>\n      <td>0.06855331930275399 %</td>\n    </tr>\n    <tr>\n      <th>Cedar Ridge Vineyards</th>\n      <td>3712.50</td>\n      <td>6.059623759797004 %</td>\n    </tr>\n    <tr>\n      <th>Central City 2</th>\n      <td>2580.60</td>\n      <td>4.212111804587784 %</td>\n    </tr>\n    <tr>\n      <th>...</th>\n      <td>...</td>\n      <td>...</td>\n    </tr>\n    <tr>\n      <th>Speedy Gas N Shop</th>\n      <td>68.18</td>\n      <td>0.11128488833480399 %</td>\n    </tr>\n    <tr>\n      <th>Tequila's Liquor Store</th>\n      <td>413.28</td>\n      <td>0.6745646619390993 %</td>\n    </tr>\n    <tr>\n      <th>The Ox &amp; Wren Spirits and Gifts</th>\n      <td>75.12</td>\n      <td>0.12261250823864 %</td>\n    </tr>\n    <tr>\n      <th>Tobacco Hut #14 / Council Bluffs</th>\n      <td>33.24</td>\n      <td>0.0542550555624653 %</td>\n    </tr>\n    <tr>\n      <th>Wilkie Liquors</th>\n      <td>11620.80</td>\n      <td>18.96772411793913 %</td>\n    </tr>\n  </tbody>\n</table>\n<p>61 rows × 2 columns</p>\n</div>"
     },
     "execution_count": 65,
     "metadata": {},
     "output_type": "execute_result"
    }
   ],
   "source": [
    "df_sales['sales_percentage'] = (df_sales['sale_dollars'] / sales_sum * 100).astype(str) + ' %'\n",
    "df_sales"
   ],
   "metadata": {
    "collapsed": false,
    "pycharm": {
     "name": "#%%\n"
    }
   }
  },
  {
   "cell_type": "code",
   "execution_count": null,
   "outputs": [],
   "source": [],
   "metadata": {
    "collapsed": false,
    "pycharm": {
     "name": "#%%\n"
    }
   }
  }
 ],
 "metadata": {
  "kernelspec": {
   "display_name": "Python 3",
   "language": "python",
   "name": "python3"
  },
  "language_info": {
   "codemirror_mode": {
    "name": "ipython",
    "version": 2
   },
   "file_extension": ".py",
   "mimetype": "text/x-python",
   "name": "python",
   "nbconvert_exporter": "python",
   "pygments_lexer": "ipython2",
   "version": "2.7.6"
  }
 },
 "nbformat": 4,
 "nbformat_minor": 0
}